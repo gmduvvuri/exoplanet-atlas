{
 "cells": [
  {
   "cell_type": "markdown",
   "metadata": {},
   "source": [
    "# Filtering \n",
    "\n",
    "Some exoplanets are easier to observe than others. Let's walk through how we might filter down from all the transiting exoplanets in the NASA Exoplanet Archive into a `Population` for which we might want to consider trying to plan some observations."
   ]
  },
  {
   "cell_type": "code",
   "execution_count": null,
   "metadata": {},
   "outputs": [],
   "source": [
    "import exoatlas as ea \n",
    "ea.version()"
   ]
  },
  {
   "cell_type": "markdown",
   "metadata": {},
   "source": [
    "Let's download a recent list of transiting exoplanets from the NASA Exoplanet Archive. We should, as always, be careful not to completely trust every detail of this database. For any particular planet, there's a possibility that details might be wrong or missing. For anything super crucial, it would be wise to double check!"
   ]
  },
  {
   "cell_type": "code",
   "execution_count": null,
   "metadata": {},
   "outputs": [],
   "source": [
    "e = ea.TransitingExoplanets()\n",
    "s = ea.SolarSystem()\n",
    "\n"
   ]
  },
  {
   "cell_type": "markdown",
   "metadata": {},
   "source": [
    "Let's use a quick built-in summary to visualize how easy (or difficult) these planets are to observe with different methods. "
   ]
  },
  {
   "cell_type": "code",
   "execution_count": null,
   "metadata": {},
   "outputs": [],
   "source": [
    "import astropy.units as u \n",
    "ea.observable_summary([e,s]);"
   ]
  },
  {
   "cell_type": "code",
   "execution_count": null,
   "metadata": {},
   "outputs": [],
   "source": [
    "ea.observable_summary([e,s], wavelength=0.5*u.micron, telescope_name='APO', observables=['depth', 'transmission']);"
   ]
  },
  {
   "cell_type": "markdown",
   "metadata": {},
   "source": [
    "## Duration"
   ]
  },
  {
   "cell_type": "code",
   "execution_count": null,
   "metadata": {},
   "outputs": [],
   "source": [
    "is_short = e.transit_duration < 3*u.hour"
   ]
  },
  {
   "cell_type": "markdown",
   "metadata": {},
   "source": [
    "## Location on Sky"
   ]
  },
  {
   "cell_type": "code",
   "execution_count": null,
   "metadata": {},
   "outputs": [],
   "source": [
    "from astropy.time import Time \n",
    "from astropy.coordinates import EarthLocation\n",
    "import numpy as np\n",
    "import matplotlib.pyplot as plt\n",
    "\n",
    "midnight = Time('2024-09-21 00:00:00', scale='utc')"
   ]
  },
  {
   "cell_type": "code",
   "execution_count": null,
   "metadata": {},
   "outputs": [],
   "source": [
    "ra_at_midnight = midnight.sidereal_time(kind='apparent',longitude='greenwich')"
   ]
  },
  {
   "cell_type": "code",
   "execution_count": null,
   "metadata": {},
   "outputs": [],
   "source": [
    "is_north = e.dec > -10*u.deg\n",
    "is_night = np.abs((e.ra - ra_at_midnight).wrap_at(180*u.deg)) < 6*u.hourangle\n",
    "\n",
    "kw = dict(s=2, alpha=0.25)\n",
    "plt.scatter(e.ra, e.dec, **kw)\n",
    "\n",
    "potentially_observable = e[is_north * is_night]\n",
    "plt.scatter(potentially_observable.ra, potentially_observable.dec, **kw)\n",
    "\n",
    "plt.xlabel('Right Ascension (deg)')\n",
    "plt.ylabel('Declination (deg)')\n",
    "plt.xlim(360, 0)\n",
    "\n"
   ]
  },
  {
   "cell_type": "markdown",
   "metadata": {},
   "source": [
    "## S/N for transmission spectroscopy\n",
    " \n",
    " "
   ]
  },
  {
   "cell_type": "code",
   "execution_count": null,
   "metadata": {},
   "outputs": [],
   "source": [
    "signal = e.transmission_signal()\n",
    "noise = e.depth_uncertainty(telescope='APO', wavelength=0.5*u.micron, dt=1*u.hour)\n",
    "snr = e.transmission_snr(telescope='APO', wavelength=0.5*u.micron, dt=1*u.hour)\n",
    "\n",
    "plt.scatter(noise, signal, c=snr)\n",
    "plt.xscale('log'); plt.yscale('log')\n",
    "plt.axis('scaled')\n",
    "plt.xlabel('')\n",
    "plt.ylim(1e-6, 1e-2); plt.xlim(1e-6, 1e-2)\n",
    "plt.plot([1e-6, 1e-2], [1e-6, 1e-2])\n",
    "plt.colorbar(label='S/N')\n",
    "\n",
    "is_high_snr = snr > 5"
   ]
  },
  {
   "cell_type": "markdown",
   "metadata": {},
   "source": [
    "## Put it all Together"
   ]
  },
  {
   "cell_type": "code",
   "execution_count": null,
   "metadata": {},
   "outputs": [],
   "source": [
    "targets = e[is_high_snr*is_short*is_north*is_night]"
   ]
  },
  {
   "cell_type": "code",
   "execution_count": null,
   "metadata": {},
   "outputs": [],
   "source": [
    "targets"
   ]
  },
  {
   "cell_type": "code",
   "execution_count": null,
   "metadata": {},
   "outputs": [],
   "source": [
    "targets.name"
   ]
  },
  {
   "cell_type": "code",
   "execution_count": null,
   "metadata": {},
   "outputs": [],
   "source": []
  }
 ],
 "metadata": {
  "kernelspec": {
   "display_name": "2024",
   "language": "python",
   "name": "python3"
  },
  "language_info": {
   "codemirror_mode": {
    "name": "ipython",
    "version": 3
   },
   "file_extension": ".py",
   "mimetype": "text/x-python",
   "name": "python",
   "nbconvert_exporter": "python",
   "pygments_lexer": "ipython3",
   "version": "3.12.3"
  }
 },
 "nbformat": 4,
 "nbformat_minor": 2
}
